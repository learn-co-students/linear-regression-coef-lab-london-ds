{
 "cells": [
  {
   "cell_type": "markdown",
   "metadata": {},
   "source": [
    "# Interpreting Regression Beta Coefs"
   ]
  },
  {
   "cell_type": "code",
   "execution_count": 264,
   "metadata": {},
   "outputs": [],
   "source": [
    "import pandas as pd\n",
    "import matplotlib.pyplot as plt # For Residual Plots! \n",
    "import statsmodels.api as sm\n",
    "from sklearn import preprocessing\n",
    "from scipy import stats\n",
    "import seaborn as sns\n",
    "import numpy as np\n",
    "\n",
    "\n",
    "# For Train Test Split \n",
    "from sklearn.model_selection import train_test_split,KFold,cross_validate\n",
    "from sklearn.linear_model import LinearRegression\n",
    "from sklearn.datasets import california_housing"
   ]
  },
  {
   "cell_type": "code",
   "execution_count": 216,
   "metadata": {},
   "outputs": [],
   "source": [
    "# Load in Data \n",
    "\n",
    "df = pd.read_csv(\"kc_house_data.csv\")\n",
    "\n",
    "# Break off Target Variable\n",
    "target = df['price']"
   ]
  },
  {
   "cell_type": "markdown",
   "metadata": {},
   "source": [
    "# Train Test Split \n",
    "\n",
    "Before we start messing with our data, we need to break a bit off and not look at it until we are ready to test ourselves. This will be our `df_test` and `target_test`. This is 20% of our data that we just want to never even THINK about until we are ready to be done. \n",
    "\n",
    "This gives us the luxery to be able to play around with whateve combinations of features I want until I am satisfied with lining up what I think about the world with what the maths tell me. \n"
   ]
  },
  {
   "cell_type": "code",
   "execution_count": 217,
   "metadata": {},
   "outputs": [],
   "source": [
    "# Split that data \n",
    "\n",
    "df, df_test, target, target_test = train_test_split(df,target, test_size=.2, random_state= 42)\n",
    "\n",
    "# DON'T TOUCH TAREGET TEST OR DF TEST UNTIL YOU ARE READY TO SHOOT! "
   ]
  },
  {
   "cell_type": "code",
   "execution_count": 218,
   "metadata": {},
   "outputs": [
    {
     "name": "stdout",
     "output_type": "stream",
     "text": [
      "My training set's shape is: (17277, 21)\n",
      "My target variales shape is: (17277,)\n",
      "My training set's shape is: (4320, 21)\n",
      "My training set's shape is: (4320,)\n"
     ]
    }
   ],
   "source": [
    "print(\"My training set's shape is:\", df.shape)\n",
    "print(\"My target variales shape is:\", target.shape)\n",
    "print(\"My training set's shape is:\", df_test.shape)\n",
    "print(\"My training set's shape is:\", target_test.shape)"
   ]
  },
  {
   "cell_type": "markdown",
   "metadata": {},
   "source": [
    "### Take One: WTF is going on with this data?\n",
    "\n",
    "I don't know much about this data, but I am going to try to just model it based on two things that I think might be helpful. This might be good, this might be bad. I am going to look at number of bedrooms and squarefoot living. I am picking this just because I know that as we get more stuff in a house, the variables go up.\n",
    "\n",
    "If I didn't want to use my brain, I could instead use a correlation matrix to try to pick variables with that.\n",
    "There's nothing intrinscially wrong with this, but you need to think critically about all of this because it's not just about the numbers!!"
   ]
  },
  {
   "cell_type": "code",
   "execution_count": 219,
   "metadata": {},
   "outputs": [
    {
     "data": {
      "text/html": [
       "<div>\n",
       "<style scoped>\n",
       "    .dataframe tbody tr th:only-of-type {\n",
       "        vertical-align: middle;\n",
       "    }\n",
       "\n",
       "    .dataframe tbody tr th {\n",
       "        vertical-align: top;\n",
       "    }\n",
       "\n",
       "    .dataframe thead th {\n",
       "        text-align: right;\n",
       "    }\n",
       "</style>\n",
       "<table border=\"1\" class=\"dataframe\">\n",
       "  <thead>\n",
       "    <tr style=\"text-align: right;\">\n",
       "      <th></th>\n",
       "      <th>id</th>\n",
       "      <th>price</th>\n",
       "      <th>bedrooms</th>\n",
       "      <th>bathrooms</th>\n",
       "      <th>sqft_living</th>\n",
       "      <th>sqft_lot</th>\n",
       "      <th>floors</th>\n",
       "      <th>waterfront</th>\n",
       "      <th>view</th>\n",
       "      <th>condition</th>\n",
       "      <th>grade</th>\n",
       "      <th>sqft_above</th>\n",
       "      <th>yr_built</th>\n",
       "      <th>yr_renovated</th>\n",
       "      <th>zipcode</th>\n",
       "      <th>lat</th>\n",
       "      <th>long</th>\n",
       "      <th>sqft_living15</th>\n",
       "      <th>sqft_lot15</th>\n",
       "    </tr>\n",
       "  </thead>\n",
       "  <tbody>\n",
       "    <tr>\n",
       "      <th>id</th>\n",
       "      <td>1.000000</td>\n",
       "      <td>-0.017355</td>\n",
       "      <td>0.004771</td>\n",
       "      <td>0.010316</td>\n",
       "      <td>-0.006055</td>\n",
       "      <td>-0.134586</td>\n",
       "      <td>0.025876</td>\n",
       "      <td>-0.012190</td>\n",
       "      <td>0.008700</td>\n",
       "      <td>-0.019836</td>\n",
       "      <td>0.010580</td>\n",
       "      <td>-0.001595</td>\n",
       "      <td>0.025294</td>\n",
       "      <td>-0.012564</td>\n",
       "      <td>-0.012620</td>\n",
       "      <td>-0.005435</td>\n",
       "      <td>0.024282</td>\n",
       "      <td>0.001154</td>\n",
       "      <td>-0.140215</td>\n",
       "    </tr>\n",
       "    <tr>\n",
       "      <th>price</th>\n",
       "      <td>-0.017355</td>\n",
       "      <td>1.000000</td>\n",
       "      <td>0.315422</td>\n",
       "      <td>0.529378</td>\n",
       "      <td>0.701778</td>\n",
       "      <td>0.089524</td>\n",
       "      <td>0.258561</td>\n",
       "      <td>0.275385</td>\n",
       "      <td>0.400145</td>\n",
       "      <td>0.042909</td>\n",
       "      <td>0.670040</td>\n",
       "      <td>0.603072</td>\n",
       "      <td>0.047772</td>\n",
       "      <td>0.129166</td>\n",
       "      <td>-0.048010</td>\n",
       "      <td>0.305863</td>\n",
       "      <td>0.017225</td>\n",
       "      <td>0.588622</td>\n",
       "      <td>0.078741</td>\n",
       "    </tr>\n",
       "    <tr>\n",
       "      <th>bedrooms</th>\n",
       "      <td>0.004771</td>\n",
       "      <td>0.315422</td>\n",
       "      <td>1.000000</td>\n",
       "      <td>0.527008</td>\n",
       "      <td>0.592701</td>\n",
       "      <td>0.041579</td>\n",
       "      <td>0.183144</td>\n",
       "      <td>0.002254</td>\n",
       "      <td>0.088486</td>\n",
       "      <td>0.017482</td>\n",
       "      <td>0.362265</td>\n",
       "      <td>0.492467</td>\n",
       "      <td>0.157525</td>\n",
       "      <td>0.020966</td>\n",
       "      <td>-0.151134</td>\n",
       "      <td>-0.015483</td>\n",
       "      <td>0.131968</td>\n",
       "      <td>0.404960</td>\n",
       "      <td>0.034729</td>\n",
       "    </tr>\n",
       "    <tr>\n",
       "      <th>bathrooms</th>\n",
       "      <td>0.010316</td>\n",
       "      <td>0.529378</td>\n",
       "      <td>0.527008</td>\n",
       "      <td>1.000000</td>\n",
       "      <td>0.758467</td>\n",
       "      <td>0.090724</td>\n",
       "      <td>0.500929</td>\n",
       "      <td>0.071959</td>\n",
       "      <td>0.192903</td>\n",
       "      <td>-0.126765</td>\n",
       "      <td>0.664047</td>\n",
       "      <td>0.687644</td>\n",
       "      <td>0.500170</td>\n",
       "      <td>0.057154</td>\n",
       "      <td>-0.198293</td>\n",
       "      <td>0.030936</td>\n",
       "      <td>0.217301</td>\n",
       "      <td>0.571871</td>\n",
       "      <td>0.086461</td>\n",
       "    </tr>\n",
       "    <tr>\n",
       "      <th>sqft_living</th>\n",
       "      <td>-0.006055</td>\n",
       "      <td>0.701778</td>\n",
       "      <td>0.592701</td>\n",
       "      <td>0.758467</td>\n",
       "      <td>1.000000</td>\n",
       "      <td>0.182080</td>\n",
       "      <td>0.353172</td>\n",
       "      <td>0.111976</td>\n",
       "      <td>0.288661</td>\n",
       "      <td>-0.056987</td>\n",
       "      <td>0.761207</td>\n",
       "      <td>0.875670</td>\n",
       "      <td>0.313638</td>\n",
       "      <td>0.054631</td>\n",
       "      <td>-0.195949</td>\n",
       "      <td>0.053362</td>\n",
       "      <td>0.236566</td>\n",
       "      <td>0.759525</td>\n",
       "      <td>0.187308</td>\n",
       "    </tr>\n",
       "    <tr>\n",
       "      <th>sqft_lot</th>\n",
       "      <td>-0.134586</td>\n",
       "      <td>0.089524</td>\n",
       "      <td>0.041579</td>\n",
       "      <td>0.090724</td>\n",
       "      <td>0.182080</td>\n",
       "      <td>1.000000</td>\n",
       "      <td>-0.003873</td>\n",
       "      <td>0.023484</td>\n",
       "      <td>0.077069</td>\n",
       "      <td>-0.009913</td>\n",
       "      <td>0.120223</td>\n",
       "      <td>0.190362</td>\n",
       "      <td>0.057244</td>\n",
       "      <td>0.006166</td>\n",
       "      <td>-0.132420</td>\n",
       "      <td>-0.081812</td>\n",
       "      <td>0.233827</td>\n",
       "      <td>0.153907</td>\n",
       "      <td>0.709840</td>\n",
       "    </tr>\n",
       "    <tr>\n",
       "      <th>floors</th>\n",
       "      <td>0.025876</td>\n",
       "      <td>0.258561</td>\n",
       "      <td>0.183144</td>\n",
       "      <td>0.500929</td>\n",
       "      <td>0.353172</td>\n",
       "      <td>-0.003873</td>\n",
       "      <td>1.000000</td>\n",
       "      <td>0.024805</td>\n",
       "      <td>0.033378</td>\n",
       "      <td>-0.261006</td>\n",
       "      <td>0.458976</td>\n",
       "      <td>0.525346</td>\n",
       "      <td>0.487007</td>\n",
       "      <td>0.003389</td>\n",
       "      <td>-0.058511</td>\n",
       "      <td>0.052957</td>\n",
       "      <td>0.123830</td>\n",
       "      <td>0.280191</td>\n",
       "      <td>-0.011994</td>\n",
       "    </tr>\n",
       "    <tr>\n",
       "      <th>waterfront</th>\n",
       "      <td>-0.012190</td>\n",
       "      <td>0.275385</td>\n",
       "      <td>0.002254</td>\n",
       "      <td>0.071959</td>\n",
       "      <td>0.111976</td>\n",
       "      <td>0.023484</td>\n",
       "      <td>0.024805</td>\n",
       "      <td>1.000000</td>\n",
       "      <td>0.409383</td>\n",
       "      <td>0.024644</td>\n",
       "      <td>0.090274</td>\n",
       "      <td>0.076729</td>\n",
       "      <td>-0.025740</td>\n",
       "      <td>0.086732</td>\n",
       "      <td>0.028418</td>\n",
       "      <td>-0.012360</td>\n",
       "      <td>-0.032924</td>\n",
       "      <td>0.094300</td>\n",
       "      <td>0.031537</td>\n",
       "    </tr>\n",
       "    <tr>\n",
       "      <th>view</th>\n",
       "      <td>0.008700</td>\n",
       "      <td>0.400145</td>\n",
       "      <td>0.088486</td>\n",
       "      <td>0.192903</td>\n",
       "      <td>0.288661</td>\n",
       "      <td>0.077069</td>\n",
       "      <td>0.033378</td>\n",
       "      <td>0.409383</td>\n",
       "      <td>1.000000</td>\n",
       "      <td>0.045465</td>\n",
       "      <td>0.258279</td>\n",
       "      <td>0.173194</td>\n",
       "      <td>-0.050347</td>\n",
       "      <td>0.095173</td>\n",
       "      <td>0.085784</td>\n",
       "      <td>0.009798</td>\n",
       "      <td>-0.075741</td>\n",
       "      <td>0.283068</td>\n",
       "      <td>0.074281</td>\n",
       "    </tr>\n",
       "    <tr>\n",
       "      <th>condition</th>\n",
       "      <td>-0.019836</td>\n",
       "      <td>0.042909</td>\n",
       "      <td>0.017482</td>\n",
       "      <td>-0.126765</td>\n",
       "      <td>-0.056987</td>\n",
       "      <td>-0.009913</td>\n",
       "      <td>-0.261006</td>\n",
       "      <td>0.024644</td>\n",
       "      <td>0.045465</td>\n",
       "      <td>1.000000</td>\n",
       "      <td>-0.144610</td>\n",
       "      <td>-0.156815</td>\n",
       "      <td>-0.365650</td>\n",
       "      <td>-0.061515</td>\n",
       "      <td>0.009895</td>\n",
       "      <td>-0.018195</td>\n",
       "      <td>-0.112165</td>\n",
       "      <td>-0.089221</td>\n",
       "      <td>-0.003178</td>\n",
       "    </tr>\n",
       "    <tr>\n",
       "      <th>grade</th>\n",
       "      <td>0.010580</td>\n",
       "      <td>0.670040</td>\n",
       "      <td>0.362265</td>\n",
       "      <td>0.664047</td>\n",
       "      <td>0.761207</td>\n",
       "      <td>0.120223</td>\n",
       "      <td>0.458976</td>\n",
       "      <td>0.090274</td>\n",
       "      <td>0.258279</td>\n",
       "      <td>-0.144610</td>\n",
       "      <td>1.000000</td>\n",
       "      <td>0.755396</td>\n",
       "      <td>0.441339</td>\n",
       "      <td>0.023081</td>\n",
       "      <td>-0.183264</td>\n",
       "      <td>0.113715</td>\n",
       "      <td>0.196432</td>\n",
       "      <td>0.714152</td>\n",
       "      <td>0.120628</td>\n",
       "    </tr>\n",
       "    <tr>\n",
       "      <th>sqft_above</th>\n",
       "      <td>-0.001595</td>\n",
       "      <td>0.603072</td>\n",
       "      <td>0.492467</td>\n",
       "      <td>0.687644</td>\n",
       "      <td>0.875670</td>\n",
       "      <td>0.190362</td>\n",
       "      <td>0.525346</td>\n",
       "      <td>0.076729</td>\n",
       "      <td>0.173194</td>\n",
       "      <td>-0.156815</td>\n",
       "      <td>0.755396</td>\n",
       "      <td>1.000000</td>\n",
       "      <td>0.421677</td>\n",
       "      <td>0.022459</td>\n",
       "      <td>-0.260342</td>\n",
       "      <td>-0.003725</td>\n",
       "      <td>0.340844</td>\n",
       "      <td>0.734664</td>\n",
       "      <td>0.195000</td>\n",
       "    </tr>\n",
       "    <tr>\n",
       "      <th>yr_built</th>\n",
       "      <td>0.025294</td>\n",
       "      <td>0.047772</td>\n",
       "      <td>0.157525</td>\n",
       "      <td>0.500170</td>\n",
       "      <td>0.313638</td>\n",
       "      <td>0.057244</td>\n",
       "      <td>0.487007</td>\n",
       "      <td>-0.025740</td>\n",
       "      <td>-0.050347</td>\n",
       "      <td>-0.365650</td>\n",
       "      <td>0.441339</td>\n",
       "      <td>0.421677</td>\n",
       "      <td>1.000000</td>\n",
       "      <td>-0.222969</td>\n",
       "      <td>-0.350408</td>\n",
       "      <td>-0.150197</td>\n",
       "      <td>0.411414</td>\n",
       "      <td>0.325076</td>\n",
       "      <td>0.070946</td>\n",
       "    </tr>\n",
       "    <tr>\n",
       "      <th>yr_renovated</th>\n",
       "      <td>-0.012564</td>\n",
       "      <td>0.129166</td>\n",
       "      <td>0.020966</td>\n",
       "      <td>0.057154</td>\n",
       "      <td>0.054631</td>\n",
       "      <td>0.006166</td>\n",
       "      <td>0.003389</td>\n",
       "      <td>0.086732</td>\n",
       "      <td>0.095173</td>\n",
       "      <td>-0.061515</td>\n",
       "      <td>0.023081</td>\n",
       "      <td>0.022459</td>\n",
       "      <td>-0.222969</td>\n",
       "      <td>1.000000</td>\n",
       "      <td>0.074542</td>\n",
       "      <td>0.030128</td>\n",
       "      <td>-0.074098</td>\n",
       "      <td>0.002677</td>\n",
       "      <td>0.008107</td>\n",
       "    </tr>\n",
       "    <tr>\n",
       "      <th>zipcode</th>\n",
       "      <td>-0.012620</td>\n",
       "      <td>-0.048010</td>\n",
       "      <td>-0.151134</td>\n",
       "      <td>-0.198293</td>\n",
       "      <td>-0.195949</td>\n",
       "      <td>-0.132420</td>\n",
       "      <td>-0.058511</td>\n",
       "      <td>0.028418</td>\n",
       "      <td>0.085784</td>\n",
       "      <td>0.009895</td>\n",
       "      <td>-0.183264</td>\n",
       "      <td>-0.260342</td>\n",
       "      <td>-0.350408</td>\n",
       "      <td>0.074542</td>\n",
       "      <td>1.000000</td>\n",
       "      <td>0.266856</td>\n",
       "      <td>-0.564456</td>\n",
       "      <td>-0.277450</td>\n",
       "      <td>-0.150474</td>\n",
       "    </tr>\n",
       "    <tr>\n",
       "      <th>lat</th>\n",
       "      <td>-0.005435</td>\n",
       "      <td>0.305863</td>\n",
       "      <td>-0.015483</td>\n",
       "      <td>0.030936</td>\n",
       "      <td>0.053362</td>\n",
       "      <td>-0.081812</td>\n",
       "      <td>0.052957</td>\n",
       "      <td>-0.012360</td>\n",
       "      <td>0.009798</td>\n",
       "      <td>-0.018195</td>\n",
       "      <td>0.113715</td>\n",
       "      <td>-0.003725</td>\n",
       "      <td>-0.150197</td>\n",
       "      <td>0.030128</td>\n",
       "      <td>0.266856</td>\n",
       "      <td>1.000000</td>\n",
       "      <td>-0.135356</td>\n",
       "      <td>0.049053</td>\n",
       "      <td>-0.081802</td>\n",
       "    </tr>\n",
       "    <tr>\n",
       "      <th>long</th>\n",
       "      <td>0.024282</td>\n",
       "      <td>0.017225</td>\n",
       "      <td>0.131968</td>\n",
       "      <td>0.217301</td>\n",
       "      <td>0.236566</td>\n",
       "      <td>0.233827</td>\n",
       "      <td>0.123830</td>\n",
       "      <td>-0.032924</td>\n",
       "      <td>-0.075741</td>\n",
       "      <td>-0.112165</td>\n",
       "      <td>0.196432</td>\n",
       "      <td>0.340844</td>\n",
       "      <td>0.411414</td>\n",
       "      <td>-0.074098</td>\n",
       "      <td>-0.564456</td>\n",
       "      <td>-0.135356</td>\n",
       "      <td>1.000000</td>\n",
       "      <td>0.331042</td>\n",
       "      <td>0.258336</td>\n",
       "    </tr>\n",
       "    <tr>\n",
       "      <th>sqft_living15</th>\n",
       "      <td>0.001154</td>\n",
       "      <td>0.588622</td>\n",
       "      <td>0.404960</td>\n",
       "      <td>0.571871</td>\n",
       "      <td>0.759525</td>\n",
       "      <td>0.153907</td>\n",
       "      <td>0.280191</td>\n",
       "      <td>0.094300</td>\n",
       "      <td>0.283068</td>\n",
       "      <td>-0.089221</td>\n",
       "      <td>0.714152</td>\n",
       "      <td>0.734664</td>\n",
       "      <td>0.325076</td>\n",
       "      <td>0.002677</td>\n",
       "      <td>-0.277450</td>\n",
       "      <td>0.049053</td>\n",
       "      <td>0.331042</td>\n",
       "      <td>1.000000</td>\n",
       "      <td>0.189602</td>\n",
       "    </tr>\n",
       "    <tr>\n",
       "      <th>sqft_lot15</th>\n",
       "      <td>-0.140215</td>\n",
       "      <td>0.078741</td>\n",
       "      <td>0.034729</td>\n",
       "      <td>0.086461</td>\n",
       "      <td>0.187308</td>\n",
       "      <td>0.709840</td>\n",
       "      <td>-0.011994</td>\n",
       "      <td>0.031537</td>\n",
       "      <td>0.074281</td>\n",
       "      <td>-0.003178</td>\n",
       "      <td>0.120628</td>\n",
       "      <td>0.195000</td>\n",
       "      <td>0.070946</td>\n",
       "      <td>0.008107</td>\n",
       "      <td>-0.150474</td>\n",
       "      <td>-0.081802</td>\n",
       "      <td>0.258336</td>\n",
       "      <td>0.189602</td>\n",
       "      <td>1.000000</td>\n",
       "    </tr>\n",
       "  </tbody>\n",
       "</table>\n",
       "</div>"
      ],
      "text/plain": [
       "                     id     price  bedrooms  bathrooms  sqft_living  sqft_lot  \\\n",
       "id             1.000000 -0.017355  0.004771   0.010316    -0.006055 -0.134586   \n",
       "price         -0.017355  1.000000  0.315422   0.529378     0.701778  0.089524   \n",
       "bedrooms       0.004771  0.315422  1.000000   0.527008     0.592701  0.041579   \n",
       "bathrooms      0.010316  0.529378  0.527008   1.000000     0.758467  0.090724   \n",
       "sqft_living   -0.006055  0.701778  0.592701   0.758467     1.000000  0.182080   \n",
       "sqft_lot      -0.134586  0.089524  0.041579   0.090724     0.182080  1.000000   \n",
       "floors         0.025876  0.258561  0.183144   0.500929     0.353172 -0.003873   \n",
       "waterfront    -0.012190  0.275385  0.002254   0.071959     0.111976  0.023484   \n",
       "view           0.008700  0.400145  0.088486   0.192903     0.288661  0.077069   \n",
       "condition     -0.019836  0.042909  0.017482  -0.126765    -0.056987 -0.009913   \n",
       "grade          0.010580  0.670040  0.362265   0.664047     0.761207  0.120223   \n",
       "sqft_above    -0.001595  0.603072  0.492467   0.687644     0.875670  0.190362   \n",
       "yr_built       0.025294  0.047772  0.157525   0.500170     0.313638  0.057244   \n",
       "yr_renovated  -0.012564  0.129166  0.020966   0.057154     0.054631  0.006166   \n",
       "zipcode       -0.012620 -0.048010 -0.151134  -0.198293    -0.195949 -0.132420   \n",
       "lat           -0.005435  0.305863 -0.015483   0.030936     0.053362 -0.081812   \n",
       "long           0.024282  0.017225  0.131968   0.217301     0.236566  0.233827   \n",
       "sqft_living15  0.001154  0.588622  0.404960   0.571871     0.759525  0.153907   \n",
       "sqft_lot15    -0.140215  0.078741  0.034729   0.086461     0.187308  0.709840   \n",
       "\n",
       "                 floors  waterfront      view  condition     grade  \\\n",
       "id             0.025876   -0.012190  0.008700  -0.019836  0.010580   \n",
       "price          0.258561    0.275385  0.400145   0.042909  0.670040   \n",
       "bedrooms       0.183144    0.002254  0.088486   0.017482  0.362265   \n",
       "bathrooms      0.500929    0.071959  0.192903  -0.126765  0.664047   \n",
       "sqft_living    0.353172    0.111976  0.288661  -0.056987  0.761207   \n",
       "sqft_lot      -0.003873    0.023484  0.077069  -0.009913  0.120223   \n",
       "floors         1.000000    0.024805  0.033378  -0.261006  0.458976   \n",
       "waterfront     0.024805    1.000000  0.409383   0.024644  0.090274   \n",
       "view           0.033378    0.409383  1.000000   0.045465  0.258279   \n",
       "condition     -0.261006    0.024644  0.045465   1.000000 -0.144610   \n",
       "grade          0.458976    0.090274  0.258279  -0.144610  1.000000   \n",
       "sqft_above     0.525346    0.076729  0.173194  -0.156815  0.755396   \n",
       "yr_built       0.487007   -0.025740 -0.050347  -0.365650  0.441339   \n",
       "yr_renovated   0.003389    0.086732  0.095173  -0.061515  0.023081   \n",
       "zipcode       -0.058511    0.028418  0.085784   0.009895 -0.183264   \n",
       "lat            0.052957   -0.012360  0.009798  -0.018195  0.113715   \n",
       "long           0.123830   -0.032924 -0.075741  -0.112165  0.196432   \n",
       "sqft_living15  0.280191    0.094300  0.283068  -0.089221  0.714152   \n",
       "sqft_lot15    -0.011994    0.031537  0.074281  -0.003178  0.120628   \n",
       "\n",
       "               sqft_above  yr_built  yr_renovated   zipcode       lat  \\\n",
       "id              -0.001595  0.025294     -0.012564 -0.012620 -0.005435   \n",
       "price            0.603072  0.047772      0.129166 -0.048010  0.305863   \n",
       "bedrooms         0.492467  0.157525      0.020966 -0.151134 -0.015483   \n",
       "bathrooms        0.687644  0.500170      0.057154 -0.198293  0.030936   \n",
       "sqft_living      0.875670  0.313638      0.054631 -0.195949  0.053362   \n",
       "sqft_lot         0.190362  0.057244      0.006166 -0.132420 -0.081812   \n",
       "floors           0.525346  0.487007      0.003389 -0.058511  0.052957   \n",
       "waterfront       0.076729 -0.025740      0.086732  0.028418 -0.012360   \n",
       "view             0.173194 -0.050347      0.095173  0.085784  0.009798   \n",
       "condition       -0.156815 -0.365650     -0.061515  0.009895 -0.018195   \n",
       "grade            0.755396  0.441339      0.023081 -0.183264  0.113715   \n",
       "sqft_above       1.000000  0.421677      0.022459 -0.260342 -0.003725   \n",
       "yr_built         0.421677  1.000000     -0.222969 -0.350408 -0.150197   \n",
       "yr_renovated     0.022459 -0.222969      1.000000  0.074542  0.030128   \n",
       "zipcode         -0.260342 -0.350408      0.074542  1.000000  0.266856   \n",
       "lat             -0.003725 -0.150197      0.030128  0.266856  1.000000   \n",
       "long             0.340844  0.411414     -0.074098 -0.564456 -0.135356   \n",
       "sqft_living15    0.734664  0.325076      0.002677 -0.277450  0.049053   \n",
       "sqft_lot15       0.195000  0.070946      0.008107 -0.150474 -0.081802   \n",
       "\n",
       "                   long  sqft_living15  sqft_lot15  \n",
       "id             0.024282       0.001154   -0.140215  \n",
       "price          0.017225       0.588622    0.078741  \n",
       "bedrooms       0.131968       0.404960    0.034729  \n",
       "bathrooms      0.217301       0.571871    0.086461  \n",
       "sqft_living    0.236566       0.759525    0.187308  \n",
       "sqft_lot       0.233827       0.153907    0.709840  \n",
       "floors         0.123830       0.280191   -0.011994  \n",
       "waterfront    -0.032924       0.094300    0.031537  \n",
       "view          -0.075741       0.283068    0.074281  \n",
       "condition     -0.112165      -0.089221   -0.003178  \n",
       "grade          0.196432       0.714152    0.120628  \n",
       "sqft_above     0.340844       0.734664    0.195000  \n",
       "yr_built       0.411414       0.325076    0.070946  \n",
       "yr_renovated  -0.074098       0.002677    0.008107  \n",
       "zipcode       -0.564456      -0.277450   -0.150474  \n",
       "lat           -0.135356       0.049053   -0.081802  \n",
       "long           1.000000       0.331042    0.258336  \n",
       "sqft_living15  0.331042       1.000000    0.189602  \n",
       "sqft_lot15     0.258336       0.189602    1.000000  "
      ]
     },
     "execution_count": 219,
     "metadata": {},
     "output_type": "execute_result"
    }
   ],
   "source": [
    "df.corr()"
   ]
  },
  {
   "cell_type": "code",
   "execution_count": 220,
   "metadata": {},
   "outputs": [
    {
     "data": {
      "text/html": [
       "<div>\n",
       "<style scoped>\n",
       "    .dataframe tbody tr th:only-of-type {\n",
       "        vertical-align: middle;\n",
       "    }\n",
       "\n",
       "    .dataframe tbody tr th {\n",
       "        vertical-align: top;\n",
       "    }\n",
       "\n",
       "    .dataframe thead th {\n",
       "        text-align: right;\n",
       "    }\n",
       "</style>\n",
       "<table border=\"1\" class=\"dataframe\">\n",
       "  <thead>\n",
       "    <tr style=\"text-align: right;\">\n",
       "      <th></th>\n",
       "      <th>price</th>\n",
       "      <th>sqft_living</th>\n",
       "      <th>bedrooms</th>\n",
       "    </tr>\n",
       "  </thead>\n",
       "  <tbody>\n",
       "    <tr>\n",
       "      <th>price</th>\n",
       "      <td>1.000000</td>\n",
       "      <td>0.701778</td>\n",
       "      <td>0.315422</td>\n",
       "    </tr>\n",
       "    <tr>\n",
       "      <th>sqft_living</th>\n",
       "      <td>0.701778</td>\n",
       "      <td>1.000000</td>\n",
       "      <td>0.592701</td>\n",
       "    </tr>\n",
       "    <tr>\n",
       "      <th>bedrooms</th>\n",
       "      <td>0.315422</td>\n",
       "      <td>0.592701</td>\n",
       "      <td>1.000000</td>\n",
       "    </tr>\n",
       "  </tbody>\n",
       "</table>\n",
       "</div>"
      ],
      "text/plain": [
       "                price  sqft_living  bedrooms\n",
       "price        1.000000     0.701778  0.315422\n",
       "sqft_living  0.701778     1.000000  0.592701\n",
       "bedrooms     0.315422     0.592701  1.000000"
      ]
     },
     "execution_count": 220,
     "metadata": {},
     "output_type": "execute_result"
    }
   ],
   "source": [
    "df[['price','sqft_living','bedrooms']].corr()"
   ]
  },
  {
   "cell_type": "markdown",
   "metadata": {},
   "source": [
    "Appear to be decent correlations here! Maybe this can be my *baseline model*???"
   ]
  },
  {
   "cell_type": "code",
   "execution_count": 221,
   "metadata": {},
   "outputs": [
    {
     "data": {
      "text/plain": [
       "Text(0.5, 1.0, 'Number of Bedrooms')"
      ]
     },
     "execution_count": 221,
     "metadata": {},
     "output_type": "execute_result"
    },
    {
     "data": {
      "image/png": "[encoded data removed]",
      "text/plain": [
       "<Figure size 432x288 with 1 Axes>"
      ]
     },
     "metadata": {
      "needs_background": "light"
     },
     "output_type": "display_data"
    }
   ],
   "source": [
    "# Little EDA\n",
    "sns.distplot(df['bedrooms']).set_title(\"Number of Bedrooms\")"
   ]
  },
  {
   "cell_type": "code",
   "execution_count": 222,
   "metadata": {},
   "outputs": [
    {
     "data": {
      "text/plain": [
       "Text(0.5, 1.0, 'Square Foot Living')"
      ]
     },
     "execution_count": 222,
     "metadata": {},
     "output_type": "execute_result"
    },
    {
     "data": {
      "image/png": "[encoded data removed]",
      "text/plain": [
       "<Figure size 432x288 with 1 Axes>"
      ]
     },
     "metadata": {
      "needs_background": "light"
     },
     "output_type": "display_data"
    }
   ],
   "source": [
    "sns.distplot(df['sqft_living']).set_title(\"Square Foot Living\")"
   ]
  },
  {
   "cell_type": "code",
   "execution_count": 223,
   "metadata": {},
   "outputs": [
    {
     "data": {
      "text/plain": [
       "Text(0.5, 1.0, 'What I am Trying to Predict: PRICE!')"
      ]
     },
     "execution_count": 223,
     "metadata": {},
     "output_type": "execute_result"
    },
    {
     "data": {
      "image/png": "[encoded data removed]",
      "text/plain": [
       "<Figure size 432x288 with 1 Axes>"
      ]
     },
     "metadata": {
      "needs_background": "light"
     },
     "output_type": "display_data"
    }
   ],
   "source": [
    "sns.distplot(df['price']).set_title(\"What I am Trying to Predict: PRICE!\")"
   ]
  },
  {
   "cell_type": "markdown",
   "metadata": {},
   "source": [
    "Ehh, seems like some SERIOUS outliers here. Like the middle bit is normally distributed, but there are so many super expensive houses.\n",
    "\n",
    "Here I think to myself.... is it correct to assume that one big phat regression model is going to be suitble for every single house in King County? Do I really think all these variables will affect price the same degree for cheap houses as multi million dollar houses? I'll try it for now, but that doesn't feel right..."
   ]
  },
  {
   "cell_type": "code",
   "execution_count": 224,
   "metadata": {},
   "outputs": [
    {
     "data": {
      "text/plain": [
       "<matplotlib.axes._subplots.AxesSubplot at 0x131a2d588>"
      ]
     },
     "execution_count": 224,
     "metadata": {},
     "output_type": "execute_result"
    },
    {
     "data": {
      "image/png": "[encoded data removed]",
      "text/plain": [
       "<Figure size 432x288 with 1 Axes>"
      ]
     },
     "metadata": {
      "needs_background": "light"
     },
     "output_type": "display_data"
    }
   ],
   "source": [
    "sns.regplot(df['bedrooms'], df['price'])"
   ]
  },
  {
   "cell_type": "code",
   "execution_count": 225,
   "metadata": {},
   "outputs": [
    {
     "data": {
      "text/plain": [
       "<matplotlib.axes._subplots.AxesSubplot at 0x1319f91d0>"
      ]
     },
     "execution_count": 225,
     "metadata": {},
     "output_type": "execute_result"
    },
    {
     "data": {
      "image/png": "[encoded data removed]",
      "text/plain": [
       "<Figure size 432x288 with 1 Axes>"
      ]
     },
     "metadata": {
      "needs_background": "light"
     },
     "output_type": "display_data"
    }
   ],
   "source": [
    "sns.regplot(df['sqft_living'], df['price'])"
   ]
  },
  {
   "cell_type": "markdown",
   "metadata": {},
   "source": [
    "Already can tell I am setting myself up for failing homoscedasticity... but gotta start somewhere!!"
   ]
  },
  {
   "cell_type": "markdown",
   "metadata": {},
   "source": [
    "Let's just pick two variables because we think they could be helpful. Who knows if they are good! "
   ]
  },
  {
   "cell_type": "markdown",
   "metadata": {},
   "source": [
    "## Standardised vs Unstandardised Coefs "
   ]
  },
  {
   "cell_type": "code",
   "execution_count": 226,
   "metadata": {},
   "outputs": [
    {
     "name": "stderr",
     "output_type": "stream",
     "text": [
      "//anaconda3/lib/python3.7/site-packages/ipykernel_launcher.py:5: SettingWithCopyWarning: \n",
      "A value is trying to be set on a copy of a slice from a DataFrame.\n",
      "Try using .loc[row_indexer,col_indexer] = value instead\n",
      "\n",
      "See the caveats in the documentation: http://pandas.pydata.org/pandas-docs/stable/indexing.html#indexing-view-versus-copy\n",
      "  \"\"\"\n",
      "//anaconda3/lib/python3.7/site-packages/ipykernel_launcher.py:6: SettingWithCopyWarning: \n",
      "A value is trying to be set on a copy of a slice from a DataFrame.\n",
      "Try using .loc[row_indexer,col_indexer] = value instead\n",
      "\n",
      "See the caveats in the documentation: http://pandas.pydata.org/pandas-docs/stable/indexing.html#indexing-view-versus-copy\n",
      "  \n"
     ]
    }
   ],
   "source": [
    "# Get Variables as they are for UNSTANDARDISED Coefs\n",
    "df_small = df[[\"bedrooms\",\"sqft_living\"]]\n",
    "\n",
    "# Take Two Variabls and Z score them! \n",
    "df_small['z_bedrooms'] = stats.zscore(df_small['bedrooms'])\n",
    "df_small['z_sqft_living'] = stats.zscore(df_small['sqft_living'])\n",
    "\n",
    "# Break them up into two sep dfs\n",
    "df_unstandardised = df_small[['bedrooms',\"sqft_living\"]]\n",
    "df_standardised = df_small[['z_bedrooms',\"z_sqft_living\"]]"
   ]
  },
  {
   "cell_type": "code",
   "execution_count": 227,
   "metadata": {},
   "outputs": [
    {
     "name": "stdout",
     "output_type": "stream",
     "text": [
      "The average bedrooms is:  3.3748914742142735\n",
      "The average sqft living is:  2083.498292527638\n"
     ]
    }
   ],
   "source": [
    "print(\"The average bedrooms is: \", df_unstandardised['bedrooms'].mean())\n",
    "print(\"The average sqft living is: \", df_unstandardised['sqft_living'].mean())"
   ]
  },
  {
   "cell_type": "code",
   "execution_count": 228,
   "metadata": {},
   "outputs": [
    {
     "name": "stdout",
     "output_type": "stream",
     "text": [
      "The average bedrooms as a z score is:  0\n",
      "The average sqft living as a z score is :  0\n"
     ]
    }
   ],
   "source": [
    "print(\"The average bedrooms as a z score is: \", round(df_standardised['z_bedrooms'].mean()))\n",
    "print(\"The average sqft living as a z score is : \", round(df_standardised['z_sqft_living'].mean()))"
   ]
  },
  {
   "cell_type": "code",
   "execution_count": 229,
   "metadata": {},
   "outputs": [
    {
     "data": {
      "text/html": [
       "<div>\n",
       "<style scoped>\n",
       "    .dataframe tbody tr th:only-of-type {\n",
       "        vertical-align: middle;\n",
       "    }\n",
       "\n",
       "    .dataframe tbody tr th {\n",
       "        vertical-align: top;\n",
       "    }\n",
       "\n",
       "    .dataframe thead th {\n",
       "        text-align: right;\n",
       "    }\n",
       "</style>\n",
       "<table border=\"1\" class=\"dataframe\">\n",
       "  <thead>\n",
       "    <tr style=\"text-align: right;\">\n",
       "      <th></th>\n",
       "      <th>bedrooms</th>\n",
       "      <th>sqft_living</th>\n",
       "    </tr>\n",
       "  </thead>\n",
       "  <tbody>\n",
       "    <tr>\n",
       "      <th>6243</th>\n",
       "      <td>4</td>\n",
       "      <td>1440</td>\n",
       "    </tr>\n",
       "    <tr>\n",
       "      <th>8986</th>\n",
       "      <td>3</td>\n",
       "      <td>1430</td>\n",
       "    </tr>\n",
       "    <tr>\n",
       "      <th>9419</th>\n",
       "      <td>4</td>\n",
       "      <td>3120</td>\n",
       "    </tr>\n",
       "    <tr>\n",
       "      <th>10155</th>\n",
       "      <td>4</td>\n",
       "      <td>2060</td>\n",
       "    </tr>\n",
       "    <tr>\n",
       "      <th>10436</th>\n",
       "      <td>3</td>\n",
       "      <td>2500</td>\n",
       "    </tr>\n",
       "  </tbody>\n",
       "</table>\n",
       "</div>"
      ],
      "text/plain": [
       "       bedrooms  sqft_living\n",
       "6243          4         1440\n",
       "8986          3         1430\n",
       "9419          4         3120\n",
       "10155         4         2060\n",
       "10436         3         2500"
      ]
     },
     "execution_count": 229,
     "metadata": {},
     "output_type": "execute_result"
    }
   ],
   "source": [
    "df_unstandardised.head()"
   ]
  },
  {
   "cell_type": "code",
   "execution_count": 230,
   "metadata": {},
   "outputs": [
    {
     "data": {
      "text/html": [
       "<div>\n",
       "<style scoped>\n",
       "    .dataframe tbody tr th:only-of-type {\n",
       "        vertical-align: middle;\n",
       "    }\n",
       "\n",
       "    .dataframe tbody tr th {\n",
       "        vertical-align: top;\n",
       "    }\n",
       "\n",
       "    .dataframe thead th {\n",
       "        text-align: right;\n",
       "    }\n",
       "</style>\n",
       "<table border=\"1\" class=\"dataframe\">\n",
       "  <thead>\n",
       "    <tr style=\"text-align: right;\">\n",
       "      <th></th>\n",
       "      <th>z_bedrooms</th>\n",
       "      <th>z_sqft_living</th>\n",
       "    </tr>\n",
       "  </thead>\n",
       "  <tbody>\n",
       "    <tr>\n",
       "      <th>6243</th>\n",
       "      <td>0.691203</td>\n",
       "      <td>-0.701342</td>\n",
       "    </tr>\n",
       "    <tr>\n",
       "      <th>8986</th>\n",
       "      <td>-0.414530</td>\n",
       "      <td>-0.712241</td>\n",
       "    </tr>\n",
       "    <tr>\n",
       "      <th>9419</th>\n",
       "      <td>0.691203</td>\n",
       "      <td>1.129672</td>\n",
       "    </tr>\n",
       "    <tr>\n",
       "      <th>10155</th>\n",
       "      <td>0.691203</td>\n",
       "      <td>-0.025611</td>\n",
       "    </tr>\n",
       "    <tr>\n",
       "      <th>10436</th>\n",
       "      <td>-0.414530</td>\n",
       "      <td>0.453941</td>\n",
       "    </tr>\n",
       "  </tbody>\n",
       "</table>\n",
       "</div>"
      ],
      "text/plain": [
       "       z_bedrooms  z_sqft_living\n",
       "6243     0.691203      -0.701342\n",
       "8986    -0.414530      -0.712241\n",
       "9419     0.691203       1.129672\n",
       "10155    0.691203      -0.025611\n",
       "10436   -0.414530       0.453941"
      ]
     },
     "execution_count": 230,
     "metadata": {},
     "output_type": "execute_result"
    }
   ],
   "source": [
    "df_standardised.head()"
   ]
  },
  {
   "cell_type": "code",
   "execution_count": 231,
   "metadata": {},
   "outputs": [
    {
     "name": "stdout",
     "output_type": "stream",
     "text": [
      "(17277,) (17277, 2)\n"
     ]
    }
   ],
   "source": [
    "df_unstandardised.head()\n",
    "\n",
    "print(target.shape, df_unstandardised.shape)"
   ]
  },
  {
   "cell_type": "code",
   "execution_count": 232,
   "metadata": {},
   "outputs": [
    {
     "data": {
      "text/html": [
       "<table class=\"simpletable\">\n",
       "<caption>OLS Regression Results</caption>\n",
       "<tr>\n",
       "  <th>Dep. Variable:</th>          <td>price</td>      <th>  R-squared:         </th>  <td>   0.508</td>  \n",
       "</tr>\n",
       "<tr>\n",
       "  <th>Model:</th>                   <td>OLS</td>       <th>  Adj. R-squared:    </th>  <td>   0.508</td>  \n",
       "</tr>\n",
       "<tr>\n",
       "  <th>Method:</th>             <td>Least Squares</td>  <th>  F-statistic:       </th>  <td>   8920.</td>  \n",
       "</tr>\n",
       "<tr>\n",
       "  <th>Date:</th>             <td>Thu, 26 Mar 2020</td> <th>  Prob (F-statistic):</th>   <td>  0.00</td>   \n",
       "</tr>\n",
       "<tr>\n",
       "  <th>Time:</th>                 <td>14:31:00</td>     <th>  Log-Likelihood:    </th> <td>-2.3985e+05</td>\n",
       "</tr>\n",
       "<tr>\n",
       "  <th>No. Observations:</th>      <td> 17277</td>      <th>  AIC:               </th>  <td>4.797e+05</td> \n",
       "</tr>\n",
       "<tr>\n",
       "  <th>Df Residuals:</th>          <td> 17274</td>      <th>  BIC:               </th>  <td>4.797e+05</td> \n",
       "</tr>\n",
       "<tr>\n",
       "  <th>Df Model:</th>              <td>     2</td>      <th>                     </th>      <td> </td>     \n",
       "</tr>\n",
       "<tr>\n",
       "  <th>Covariance Type:</th>      <td>nonrobust</td>    <th>                     </th>      <td> </td>     \n",
       "</tr>\n",
       "</table>\n",
       "<table class=\"simpletable\">\n",
       "<tr>\n",
       "       <td></td>          <th>coef</th>     <th>std err</th>      <th>t</th>      <th>P>|t|</th>  <th>[0.025</th>    <th>0.975]</th>  \n",
       "</tr>\n",
       "<tr>\n",
       "  <th>const</th>       <td> 8.996e+04</td> <td> 7608.152</td> <td>   11.824</td> <td> 0.000</td> <td>  7.5e+04</td> <td> 1.05e+05</td>\n",
       "</tr>\n",
       "<tr>\n",
       "  <th>bedrooms</th>    <td>-6.322e+04</td> <td> 2703.079</td> <td>  -23.388</td> <td> 0.000</td> <td>-6.85e+04</td> <td>-5.79e+04</td>\n",
       "</tr>\n",
       "<tr>\n",
       "  <th>sqft_living</th> <td>  319.1343</td> <td>    2.664</td> <td>  119.780</td> <td> 0.000</td> <td>  313.912</td> <td>  324.357</td>\n",
       "</tr>\n",
       "</table>\n",
       "<table class=\"simpletable\">\n",
       "<tr>\n",
       "  <th>Omnibus:</th>       <td>11133.027</td> <th>  Durbin-Watson:     </th>  <td>   2.000</td> \n",
       "</tr>\n",
       "<tr>\n",
       "  <th>Prob(Omnibus):</th>  <td> 0.000</td>   <th>  Jarque-Bera (JB):  </th> <td>333103.545</td>\n",
       "</tr>\n",
       "<tr>\n",
       "  <th>Skew:</th>           <td> 2.635</td>   <th>  Prob(JB):          </th>  <td>    0.00</td> \n",
       "</tr>\n",
       "<tr>\n",
       "  <th>Kurtosis:</th>       <td>23.856</td>   <th>  Cond. No.          </th>  <td>9.13e+03</td> \n",
       "</tr>\n",
       "</table><br/><br/>Warnings:<br/>[1] Standard Errors assume that the covariance matrix of the errors is correctly specified.<br/>[2] The condition number is large, 9.13e+03. This might indicate that there are<br/>strong multicollinearity or other numerical problems."
      ],
      "text/plain": [
       "<class 'statsmodels.iolib.summary.Summary'>\n",
       "\"\"\"\n",
       "                            OLS Regression Results                            \n",
       "==============================================================================\n",
       "Dep. Variable:                  price   R-squared:                       0.508\n",
       "Model:                            OLS   Adj. R-squared:                  0.508\n",
       "Method:                 Least Squares   F-statistic:                     8920.\n",
       "Date:                Thu, 26 Mar 2020   Prob (F-statistic):               0.00\n",
       "Time:                        14:31:00   Log-Likelihood:            -2.3985e+05\n",
       "No. Observations:               17277   AIC:                         4.797e+05\n",
       "Df Residuals:                   17274   BIC:                         4.797e+05\n",
       "Df Model:                           2                                         \n",
       "Covariance Type:            nonrobust                                         \n",
       "===============================================================================\n",
       "                  coef    std err          t      P>|t|      [0.025      0.975]\n",
       "-------------------------------------------------------------------------------\n",
       "const        8.996e+04   7608.152     11.824      0.000     7.5e+04    1.05e+05\n",
       "bedrooms    -6.322e+04   2703.079    -23.388      0.000   -6.85e+04   -5.79e+04\n",
       "sqft_living   319.1343      2.664    119.780      0.000     313.912     324.357\n",
       "==============================================================================\n",
       "Omnibus:                    11133.027   Durbin-Watson:                   2.000\n",
       "Prob(Omnibus):                  0.000   Jarque-Bera (JB):           333103.545\n",
       "Skew:                           2.635   Prob(JB):                         0.00\n",
       "Kurtosis:                      23.856   Cond. No.                     9.13e+03\n",
       "==============================================================================\n",
       "\n",
       "Warnings:\n",
       "[1] Standard Errors assume that the covariance matrix of the errors is correctly specified.\n",
       "[2] The condition number is large, 9.13e+03. This might indicate that there are\n",
       "strong multicollinearity or other numerical problems.\n",
       "\"\"\""
      ]
     },
     "execution_count": 232,
     "metadata": {},
     "output_type": "execute_result"
    }
   ],
   "source": [
    "X_unstandardised = sm.add_constant(df_unstandardised)\n",
    "model_unstandardised = sm.OLS(target,X_unstandardised)\n",
    "results_unstandardised = model_unstandardised.fit()\n",
    "\n",
    "results_unstandardised.summary()"
   ]
  },
  {
   "cell_type": "code",
   "execution_count": 233,
   "metadata": {},
   "outputs": [
    {
     "data": {
      "text/plain": [
       "const          89959.004821\n",
       "bedrooms      -63218.537308\n",
       "sqft_living      319.134270\n",
       "dtype: float64"
      ]
     },
     "execution_count": 233,
     "metadata": {},
     "output_type": "execute_result"
    }
   ],
   "source": [
    "results_unstandardised.params"
   ]
  },
  {
   "cell_type": "markdown",
   "metadata": {},
   "source": [
    "In our **unstandardised** the coefs are:\n",
    "\n",
    "$price = -63,218 * \\beta_{bedrooms} + 319 * \\beta_{sqftliving} + 89,959$\n",
    "\n",
    "This can be interpreted as for every bedroom that is added, you can expect price to DROP by -$57,832, all other factors (square foot living) held equal.\n",
    "\n",
    "> Notice here that the bedroom coeffecient is much bigger in magnitude (not just direction) than the squarefoot living. This does not mean that Bedrooms has more of an effect on PRICE than SQUARE FOOT living\n",
    "\n",
    "We could divide the two coefs to TRY to compare them BUT THAT WOULDN'T MAKE ANY SENSE BECAUSE THEY ARE MEASURED ON THE SAME SCALE!! SEE THE NEXT CELL WHERE I DO THAT WHICH IS VERY DUMB TO DO!\n",
    "\n",
    "Welcome to the **DANGER ZONE**!\n",
    "\n",
    "This means that as bedrooms goes UP our price goes down!\n",
    "Multi collinearity run amok!\n",
    "\n",
    "For comparison, let's try it with our standardised..."
   ]
  },
  {
   "cell_type": "code",
   "execution_count": 247,
   "metadata": {},
   "outputs": [
    {
     "data": {
      "text/plain": [
       "-0.005048112212881101"
      ]
     },
     "execution_count": 247,
     "metadata": {},
     "output_type": "execute_result"
    }
   ],
   "source": [
    "results_unstandardised.params[2]/results_unstandardised.params[1]"
   ]
  },
  {
   "cell_type": "code",
   "execution_count": 248,
   "metadata": {},
   "outputs": [
    {
     "data": {
      "text/html": [
       "<table class=\"simpletable\">\n",
       "<caption>OLS Regression Results</caption>\n",
       "<tr>\n",
       "  <th>Dep. Variable:</th>          <td>price</td>      <th>  R-squared:         </th>  <td>   0.508</td>  \n",
       "</tr>\n",
       "<tr>\n",
       "  <th>Model:</th>                   <td>OLS</td>       <th>  Adj. R-squared:    </th>  <td>   0.508</td>  \n",
       "</tr>\n",
       "<tr>\n",
       "  <th>Method:</th>             <td>Least Squares</td>  <th>  F-statistic:       </th>  <td>   8920.</td>  \n",
       "</tr>\n",
       "<tr>\n",
       "  <th>Date:</th>             <td>Thu, 26 Mar 2020</td> <th>  Prob (F-statistic):</th>   <td>  0.00</td>   \n",
       "</tr>\n",
       "<tr>\n",
       "  <th>Time:</th>                 <td>14:31:59</td>     <th>  Log-Likelihood:    </th> <td>-2.3985e+05</td>\n",
       "</tr>\n",
       "<tr>\n",
       "  <th>No. Observations:</th>      <td> 17277</td>      <th>  AIC:               </th>  <td>4.797e+05</td> \n",
       "</tr>\n",
       "<tr>\n",
       "  <th>Df Residuals:</th>          <td> 17274</td>      <th>  BIC:               </th>  <td>4.797e+05</td> \n",
       "</tr>\n",
       "<tr>\n",
       "  <th>Df Model:</th>              <td>     2</td>      <th>                     </th>      <td> </td>     \n",
       "</tr>\n",
       "<tr>\n",
       "  <th>Covariance Type:</th>      <td>nonrobust</td>    <th>                     </th>      <td> </td>     \n",
       "</tr>\n",
       "</table>\n",
       "<table class=\"simpletable\">\n",
       "<tr>\n",
       "        <td></td>           <th>coef</th>     <th>std err</th>      <th>t</th>      <th>P>|t|</th>  <th>[0.025</th>    <th>0.975]</th>  \n",
       "</tr>\n",
       "<tr>\n",
       "  <th>const</th>         <td> 5.415e+05</td> <td> 1968.939</td> <td>  275.031</td> <td> 0.000</td> <td> 5.38e+05</td> <td> 5.45e+05</td>\n",
       "</tr>\n",
       "<tr>\n",
       "  <th>z_bedrooms</th>    <td>-5.717e+04</td> <td> 2444.603</td> <td>  -23.388</td> <td> 0.000</td> <td> -6.2e+04</td> <td>-5.24e+04</td>\n",
       "</tr>\n",
       "<tr>\n",
       "  <th>z_sqft_living</th> <td> 2.928e+05</td> <td> 2444.603</td> <td>  119.780</td> <td> 0.000</td> <td> 2.88e+05</td> <td> 2.98e+05</td>\n",
       "</tr>\n",
       "</table>\n",
       "<table class=\"simpletable\">\n",
       "<tr>\n",
       "  <th>Omnibus:</th>       <td>11133.027</td> <th>  Durbin-Watson:     </th>  <td>   2.000</td> \n",
       "</tr>\n",
       "<tr>\n",
       "  <th>Prob(Omnibus):</th>  <td> 0.000</td>   <th>  Jarque-Bera (JB):  </th> <td>333103.545</td>\n",
       "</tr>\n",
       "<tr>\n",
       "  <th>Skew:</th>           <td> 2.635</td>   <th>  Prob(JB):          </th>  <td>    0.00</td> \n",
       "</tr>\n",
       "<tr>\n",
       "  <th>Kurtosis:</th>       <td>23.856</td>   <th>  Cond. No.          </th>  <td>    1.98</td> \n",
       "</tr>\n",
       "</table><br/><br/>Warnings:<br/>[1] Standard Errors assume that the covariance matrix of the errors is correctly specified."
      ],
      "text/plain": [
       "<class 'statsmodels.iolib.summary.Summary'>\n",
       "\"\"\"\n",
       "                            OLS Regression Results                            \n",
       "==============================================================================\n",
       "Dep. Variable:                  price   R-squared:                       0.508\n",
       "Model:                            OLS   Adj. R-squared:                  0.508\n",
       "Method:                 Least Squares   F-statistic:                     8920.\n",
       "Date:                Thu, 26 Mar 2020   Prob (F-statistic):               0.00\n",
       "Time:                        14:31:59   Log-Likelihood:            -2.3985e+05\n",
       "No. Observations:               17277   AIC:                         4.797e+05\n",
       "Df Residuals:                   17274   BIC:                         4.797e+05\n",
       "Df Model:                           2                                         \n",
       "Covariance Type:            nonrobust                                         \n",
       "=================================================================================\n",
       "                    coef    std err          t      P>|t|      [0.025      0.975]\n",
       "---------------------------------------------------------------------------------\n",
       "const          5.415e+05   1968.939    275.031      0.000    5.38e+05    5.45e+05\n",
       "z_bedrooms    -5.717e+04   2444.603    -23.388      0.000    -6.2e+04   -5.24e+04\n",
       "z_sqft_living  2.928e+05   2444.603    119.780      0.000    2.88e+05    2.98e+05\n",
       "==============================================================================\n",
       "Omnibus:                    11133.027   Durbin-Watson:                   2.000\n",
       "Prob(Omnibus):                  0.000   Jarque-Bera (JB):           333103.545\n",
       "Skew:                           2.635   Prob(JB):                         0.00\n",
       "Kurtosis:                      23.856   Cond. No.                         1.98\n",
       "==============================================================================\n",
       "\n",
       "Warnings:\n",
       "[1] Standard Errors assume that the covariance matrix of the errors is correctly specified.\n",
       "\"\"\""
      ]
     },
     "execution_count": 248,
     "metadata": {},
     "output_type": "execute_result"
    }
   ],
   "source": [
    "X_standardised = sm.add_constant(df_standardised)\n",
    "model_standardised = sm.OLS(target,X_standardised)\n",
    "results_standardised = model_standardised.fit()\n",
    "\n",
    "results_standardised.summary()"
   ]
  },
  {
   "cell_type": "code",
   "execution_count": 249,
   "metadata": {},
   "outputs": [
    {
     "data": {
      "text/plain": [
       "const            541519.009435\n",
       "z_bedrooms       -57173.408016\n",
       "z_sqft_living    292813.499870\n",
       "dtype: float64"
      ]
     },
     "execution_count": 249,
     "metadata": {},
     "output_type": "execute_result"
    }
   ],
   "source": [
    "results_standardised.params"
   ]
  },
  {
   "cell_type": "markdown",
   "metadata": {},
   "source": [
    "In our **standardised** the coefs are:\n",
    "\n",
    "$price = -57,173 * \\beta_{bedrooms} + 292,813 * \\beta_{sqftliving} + 541,519$\n",
    "\n",
    "This can be interpreted as for every increase of one standard deviation (or one z) that is added, you can expect price to DROP by -$54,715, all other factors (square foot living) held equal.\n",
    "\n",
    "> Notice here that the bedroom coeffecient (-54,715) is much SMALLER in magnitude (not just direction) than the squarefoot living (279,983). Since both IVs are on the same scale, we can say that square foot living has a much lager impact on price than number of bedrooms. In fact as seen from below, it's ~5x greater!!\n",
    "\n",
    "\n",
    "\n",
    "\n"
   ]
  },
  {
   "cell_type": "code",
   "execution_count": 250,
   "metadata": {},
   "outputs": [
    {
     "data": {
      "text/plain": [
       "-5.121498088540314"
      ]
     },
     "execution_count": 250,
     "metadata": {},
     "output_type": "execute_result"
    }
   ],
   "source": [
    "results_standardised.params[2]/results_standardised.params[1]"
   ]
  },
  {
   "cell_type": "markdown",
   "metadata": {},
   "source": [
    "Lastly, let's see what happens when we *standardise everything*."
   ]
  },
  {
   "cell_type": "code",
   "execution_count": 251,
   "metadata": {},
   "outputs": [
    {
     "data": {
      "text/html": [
       "<table class=\"simpletable\">\n",
       "<caption>OLS Regression Results</caption>\n",
       "<tr>\n",
       "  <th>Dep. Variable:</th>            <td>y</td>        <th>  R-squared:         </th> <td>   0.508</td> \n",
       "</tr>\n",
       "<tr>\n",
       "  <th>Model:</th>                   <td>OLS</td>       <th>  Adj. R-squared:    </th> <td>   0.508</td> \n",
       "</tr>\n",
       "<tr>\n",
       "  <th>Method:</th>             <td>Least Squares</td>  <th>  F-statistic:       </th> <td>   8920.</td> \n",
       "</tr>\n",
       "<tr>\n",
       "  <th>Date:</th>             <td>Thu, 26 Mar 2020</td> <th>  Prob (F-statistic):</th>  <td>  0.00</td>  \n",
       "</tr>\n",
       "<tr>\n",
       "  <th>Time:</th>                 <td>14:32:09</td>     <th>  Log-Likelihood:    </th> <td> -18387.</td> \n",
       "</tr>\n",
       "<tr>\n",
       "  <th>No. Observations:</th>      <td> 17277</td>      <th>  AIC:               </th> <td>3.678e+04</td>\n",
       "</tr>\n",
       "<tr>\n",
       "  <th>Df Residuals:</th>          <td> 17274</td>      <th>  BIC:               </th> <td>3.680e+04</td>\n",
       "</tr>\n",
       "<tr>\n",
       "  <th>Df Model:</th>              <td>     2</td>      <th>                     </th>     <td> </td>    \n",
       "</tr>\n",
       "<tr>\n",
       "  <th>Covariance Type:</th>      <td>nonrobust</td>    <th>                     </th>     <td> </td>    \n",
       "</tr>\n",
       "</table>\n",
       "<table class=\"simpletable\">\n",
       "<tr>\n",
       "        <td></td>           <th>coef</th>     <th>std err</th>      <th>t</th>      <th>P>|t|</th>  <th>[0.025</th>    <th>0.975]</th>  \n",
       "</tr>\n",
       "<tr>\n",
       "  <th>const</th>         <td>  7.98e-17</td> <td>    0.005</td> <td>  1.5e-14</td> <td> 1.000</td> <td>   -0.010</td> <td>    0.010</td>\n",
       "</tr>\n",
       "<tr>\n",
       "  <th>z_bedrooms</th>    <td>   -0.1550</td> <td>    0.007</td> <td>  -23.388</td> <td> 0.000</td> <td>   -0.168</td> <td>   -0.142</td>\n",
       "</tr>\n",
       "<tr>\n",
       "  <th>z_sqft_living</th> <td>    0.7936</td> <td>    0.007</td> <td>  119.780</td> <td> 0.000</td> <td>    0.781</td> <td>    0.807</td>\n",
       "</tr>\n",
       "</table>\n",
       "<table class=\"simpletable\">\n",
       "<tr>\n",
       "  <th>Omnibus:</th>       <td>11133.027</td> <th>  Durbin-Watson:     </th>  <td>   2.000</td> \n",
       "</tr>\n",
       "<tr>\n",
       "  <th>Prob(Omnibus):</th>  <td> 0.000</td>   <th>  Jarque-Bera (JB):  </th> <td>333103.545</td>\n",
       "</tr>\n",
       "<tr>\n",
       "  <th>Skew:</th>           <td> 2.635</td>   <th>  Prob(JB):          </th>  <td>    0.00</td> \n",
       "</tr>\n",
       "<tr>\n",
       "  <th>Kurtosis:</th>       <td>23.856</td>   <th>  Cond. No.          </th>  <td>    1.98</td> \n",
       "</tr>\n",
       "</table><br/><br/>Warnings:<br/>[1] Standard Errors assume that the covariance matrix of the errors is correctly specified."
      ],
      "text/plain": [
       "<class 'statsmodels.iolib.summary.Summary'>\n",
       "\"\"\"\n",
       "                            OLS Regression Results                            \n",
       "==============================================================================\n",
       "Dep. Variable:                      y   R-squared:                       0.508\n",
       "Model:                            OLS   Adj. R-squared:                  0.508\n",
       "Method:                 Least Squares   F-statistic:                     8920.\n",
       "Date:                Thu, 26 Mar 2020   Prob (F-statistic):               0.00\n",
       "Time:                        14:32:09   Log-Likelihood:                -18387.\n",
       "No. Observations:               17277   AIC:                         3.678e+04\n",
       "Df Residuals:                   17274   BIC:                         3.680e+04\n",
       "Df Model:                           2                                         \n",
       "Covariance Type:            nonrobust                                         \n",
       "=================================================================================\n",
       "                    coef    std err          t      P>|t|      [0.025      0.975]\n",
       "---------------------------------------------------------------------------------\n",
       "const           7.98e-17      0.005    1.5e-14      1.000      -0.010       0.010\n",
       "z_bedrooms       -0.1550      0.007    -23.388      0.000      -0.168      -0.142\n",
       "z_sqft_living     0.7936      0.007    119.780      0.000       0.781       0.807\n",
       "==============================================================================\n",
       "Omnibus:                    11133.027   Durbin-Watson:                   2.000\n",
       "Prob(Omnibus):                  0.000   Jarque-Bera (JB):           333103.545\n",
       "Skew:                           2.635   Prob(JB):                         0.00\n",
       "Kurtosis:                      23.856   Cond. No.                         1.98\n",
       "==============================================================================\n",
       "\n",
       "Warnings:\n",
       "[1] Standard Errors assume that the covariance matrix of the errors is correctly specified.\n",
       "\"\"\""
      ]
     },
     "execution_count": 251,
     "metadata": {},
     "output_type": "execute_result"
    }
   ],
   "source": [
    "z_target = stats.zscore(target)\n",
    "\n",
    "X_standardised_all = sm.add_constant(df_standardised)\n",
    "model_standardised_all = sm.OLS(z_target,X_standardised)\n",
    "results_standardised_all = model_standardised_all.fit()\n",
    "\n",
    "results_standardised_all.summary()"
   ]
  },
  {
   "cell_type": "code",
   "execution_count": 252,
   "metadata": {},
   "outputs": [
    {
     "data": {
      "text/plain": [
       "0.0"
      ]
     },
     "execution_count": 252,
     "metadata": {},
     "output_type": "execute_result"
    }
   ],
   "source": [
    "round(results_standardised_all.params[0])"
   ]
  },
  {
   "cell_type": "markdown",
   "metadata": {},
   "source": [
    "What do we see here?\n",
    "\n",
    "Now our model says...\n",
    "\n",
    "$price = -0.1550 * \\beta_{bedrooms} + 0.7936 * \\beta_{sqftliving} + 0$\n",
    "\n",
    "Now EVERYTHING is on a z score and we can do apples to apples comparisons.\n",
    "\n",
    "This can be interpreted as for every increase of one standard deviation (or one z) that is added to bedrooms, you can expect price to DROP by -$0.1542 standard deviations, all other factors (square foot living) held equal.\n",
    "\n",
    "> Notice here that the bedroom coeffecient (-0.1542) is much SMALLER in magnitude (not just direction) than the squarefoot living (.7892). Notice that the magnitude of this relationship is the **exact same** as above!!\n",
    "\n",
    "\n"
   ]
  },
  {
   "cell_type": "code",
   "execution_count": 253,
   "metadata": {},
   "outputs": [
    {
     "data": {
      "text/plain": [
       "-5.121498088540311"
      ]
     },
     "execution_count": 253,
     "metadata": {},
     "output_type": "execute_result"
    }
   ],
   "source": [
    "results_standardised_all.params[2]/results_standardised_all.params[1]"
   ]
  },
  {
   "cell_type": "markdown",
   "metadata": {},
   "source": [
    "## Did I do good model?\n",
    "\n",
    "Just because you ran a model doesn't mean it's good! \n",
    "\n",
    "How can you check it?\n",
    "\n",
    "**We already know that we have some weird supression effects in the model, but let's see what happens when we plot all of this**\n",
    "\n",
    "There are a lot of tools to do this with [statsmodels that you can find in the documentation](https://www.statsmodels.org/dev/examples/notebooks/generated/regression_plots.html).\n"
   ]
  },
  {
   "cell_type": "markdown",
   "metadata": {},
   "source": [
    "### Independence Assumption\n",
    "\n",
    "There is no way to check this with Python, you need to know your data and where it comes from!\n",
    "\n",
    "That said, if there is some sort of indpendence violation, you can always check for autocorrelation, but we will talk about that more in Mod 3 and Mod 4.\n",
    "\n"
   ]
  },
  {
   "cell_type": "markdown",
   "metadata": {},
   "source": [
    "### Homoskedasticity \n"
   ]
  },
  {
   "cell_type": "markdown",
   "metadata": {},
   "source": [
    "### Normality of Residuals\n",
    "\n",
    "How do we check if our residuals are normally distributed?\n",
    "\n",
    "All the residuals live in the `.resid` attribute!\n"
   ]
  },
  {
   "cell_type": "code",
   "execution_count": 254,
   "metadata": {},
   "outputs": [
    {
     "data": {
      "text/plain": [
       "<matplotlib.axes._subplots.AxesSubplot at 0x138ec9048>"
      ]
     },
     "execution_count": 254,
     "metadata": {},
     "output_type": "execute_result"
    },
    {
     "data": {
      "image/png": "[encoded data removed]",
      "text/plain": [
       "<Figure size 432x288 with 1 Axes>"
      ]
     },
     "metadata": {
      "needs_background": "light"
     },
     "output_type": "display_data"
    }
   ],
   "source": [
    "sns.distplot(results_standardised_all.resid)"
   ]
  },
  {
   "cell_type": "markdown",
   "metadata": {},
   "source": [
    "When we plot them, it looks pretty normal, but we have TONS of data that is far beyond the typical threshold of 4 z scores!! Why do you think this is the case?"
   ]
  },
  {
   "cell_type": "code",
   "execution_count": 255,
   "metadata": {},
   "outputs": [
    {
     "data": {
      "text/plain": [
       "<matplotlib.axes._subplots.AxesSubplot at 0x132f69390>"
      ]
     },
     "execution_count": 255,
     "metadata": {},
     "output_type": "execute_result"
    },
    {
     "data": {
      "image/png": "[encoded data removed]",
      "text/plain": [
       "<Figure size 432x288 with 1 Axes>"
      ]
     },
     "metadata": {
      "needs_background": "light"
     },
     "output_type": "display_data"
    }
   ],
   "source": [
    "results_standardised_all.df_resid\n",
    "\n",
    "# Poor Man's Diagnostic Plot \n",
    "sns.regplot(results_standardised_all.resid, z_target)"
   ]
  },
  {
   "cell_type": "code",
   "execution_count": 256,
   "metadata": {},
   "outputs": [
    {
     "data": {
      "image/png": "[encoded data removed]",
      "text/plain": [
       "<Figure size 864x576 with 1 Axes>"
      ]
     },
     "metadata": {
      "needs_background": "light"
     },
     "output_type": "display_data"
    }
   ],
   "source": [
    "fig, ax = plt.subplots(figsize=(12, 8))\n",
    "fig = sm.graphics.plot_fit(results_standardised_all, \"z_bedrooms\", ax=ax)"
   ]
  },
  {
   "cell_type": "code",
   "execution_count": 257,
   "metadata": {},
   "outputs": [
    {
     "data": {
      "image/png": "[encoded data removed]",
      "text/plain": [
       "<Figure size 864x576 with 1 Axes>"
      ]
     },
     "metadata": {
      "needs_background": "light"
     },
     "output_type": "display_data"
    }
   ],
   "source": [
    "fig, ax = plt.subplots(figsize=(12, 8))\n",
    "fig = sm.graphics.plot_fit(results_standardised_all, \"z_sqft_living\", ax=ax)"
   ]
  },
  {
   "cell_type": "markdown",
   "metadata": {},
   "source": [
    "> Back to the drawing board! **Not good enough to test yet!!!!**"
   ]
  },
  {
   "cell_type": "markdown",
   "metadata": {},
   "source": [
    "## Take 2.... take N !"
   ]
  },
  {
   "cell_type": "markdown",
   "metadata": {},
   "source": [
    "We have now ran our first regression model and learned a few things:\n",
    "\n",
    "* We can get a decent R2 (.52)\n",
    "* We have some nasty supression effects happening that is not aligning with our intuition that as number of rooms goes up, so should price! \n",
    "* Appears that there is TONS of variablility when we get to the super expensive houses, maybe it's **NOT** a good idea to fit ONE BIG regression model for ALL OF KING COUNTY!!! \n",
    "* Let's pick some *new* features\n",
    "* Now I have been thinking about all this, what can I do with the data now that I didn't know before... Do another iteration of the model... \n"
   ]
  },
  {
   "cell_type": "code",
   "execution_count": 268,
   "metadata": {},
   "outputs": [
    {
     "data": {
      "text/html": [
       "<div>\n",
       "<style scoped>\n",
       "    .dataframe tbody tr th:only-of-type {\n",
       "        vertical-align: middle;\n",
       "    }\n",
       "\n",
       "    .dataframe tbody tr th {\n",
       "        vertical-align: top;\n",
       "    }\n",
       "\n",
       "    .dataframe thead th {\n",
       "        text-align: right;\n",
       "    }\n",
       "</style>\n",
       "<table border=\"1\" class=\"dataframe\">\n",
       "  <thead>\n",
       "    <tr style=\"text-align: right;\">\n",
       "      <th></th>\n",
       "      <th>id</th>\n",
       "      <th>date</th>\n",
       "      <th>price</th>\n",
       "      <th>bedrooms</th>\n",
       "      <th>bathrooms</th>\n",
       "      <th>sqft_living</th>\n",
       "      <th>sqft_lot</th>\n",
       "      <th>floors</th>\n",
       "      <th>waterfront</th>\n",
       "      <th>view</th>\n",
       "      <th>...</th>\n",
       "      <th>sqft_basement</th>\n",
       "      <th>yr_built</th>\n",
       "      <th>yr_renovated</th>\n",
       "      <th>zipcode</th>\n",
       "      <th>lat</th>\n",
       "      <th>long</th>\n",
       "      <th>sqft_living15</th>\n",
       "      <th>sqft_lot15</th>\n",
       "      <th>rooms</th>\n",
       "      <th>square_root_living</th>\n",
       "    </tr>\n",
       "  </thead>\n",
       "  <tbody>\n",
       "    <tr>\n",
       "      <th>6243</th>\n",
       "      <td>9834201100</td>\n",
       "      <td>12/22/2014</td>\n",
       "      <td>332500.0</td>\n",
       "      <td>4</td>\n",
       "      <td>2.00</td>\n",
       "      <td>1440</td>\n",
       "      <td>4855</td>\n",
       "      <td>2.0</td>\n",
       "      <td>0.0</td>\n",
       "      <td>0.0</td>\n",
       "      <td>...</td>\n",
       "      <td>0.0</td>\n",
       "      <td>1972</td>\n",
       "      <td>0.0</td>\n",
       "      <td>98144</td>\n",
       "      <td>47.5717</td>\n",
       "      <td>-122.287</td>\n",
       "      <td>1300</td>\n",
       "      <td>4080</td>\n",
       "      <td>6.00</td>\n",
       "      <td>37.947332</td>\n",
       "    </tr>\n",
       "    <tr>\n",
       "      <th>8986</th>\n",
       "      <td>7795810110</td>\n",
       "      <td>5/12/2015</td>\n",
       "      <td>390000.0</td>\n",
       "      <td>3</td>\n",
       "      <td>1.75</td>\n",
       "      <td>1430</td>\n",
       "      <td>9857</td>\n",
       "      <td>1.0</td>\n",
       "      <td>0.0</td>\n",
       "      <td>2.0</td>\n",
       "      <td>...</td>\n",
       "      <td>290.0</td>\n",
       "      <td>1980</td>\n",
       "      <td>0.0</td>\n",
       "      <td>98045</td>\n",
       "      <td>47.4964</td>\n",
       "      <td>-121.771</td>\n",
       "      <td>1310</td>\n",
       "      <td>9880</td>\n",
       "      <td>4.75</td>\n",
       "      <td>37.815341</td>\n",
       "    </tr>\n",
       "    <tr>\n",
       "      <th>9419</th>\n",
       "      <td>1853081250</td>\n",
       "      <td>12/29/2014</td>\n",
       "      <td>800000.0</td>\n",
       "      <td>4</td>\n",
       "      <td>2.75</td>\n",
       "      <td>3120</td>\n",
       "      <td>5000</td>\n",
       "      <td>2.0</td>\n",
       "      <td>0.0</td>\n",
       "      <td>0.0</td>\n",
       "      <td>...</td>\n",
       "      <td>0.0</td>\n",
       "      <td>2010</td>\n",
       "      <td>0.0</td>\n",
       "      <td>98074</td>\n",
       "      <td>47.5940</td>\n",
       "      <td>-122.062</td>\n",
       "      <td>3200</td>\n",
       "      <td>5000</td>\n",
       "      <td>6.75</td>\n",
       "      <td>55.856960</td>\n",
       "    </tr>\n",
       "    <tr>\n",
       "      <th>10155</th>\n",
       "      <td>2558630350</td>\n",
       "      <td>3/21/2015</td>\n",
       "      <td>462000.0</td>\n",
       "      <td>4</td>\n",
       "      <td>2.50</td>\n",
       "      <td>2060</td>\n",
       "      <td>6958</td>\n",
       "      <td>1.0</td>\n",
       "      <td>0.0</td>\n",
       "      <td>0.0</td>\n",
       "      <td>...</td>\n",
       "      <td>840.0</td>\n",
       "      <td>1974</td>\n",
       "      <td>NaN</td>\n",
       "      <td>98034</td>\n",
       "      <td>47.7251</td>\n",
       "      <td>-122.168</td>\n",
       "      <td>1760</td>\n",
       "      <td>7350</td>\n",
       "      <td>6.50</td>\n",
       "      <td>45.387223</td>\n",
       "    </tr>\n",
       "    <tr>\n",
       "      <th>10436</th>\n",
       "      <td>3362401000</td>\n",
       "      <td>7/1/2014</td>\n",
       "      <td>695000.0</td>\n",
       "      <td>3</td>\n",
       "      <td>2.00</td>\n",
       "      <td>2500</td>\n",
       "      <td>4080</td>\n",
       "      <td>1.5</td>\n",
       "      <td>0.0</td>\n",
       "      <td>0.0</td>\n",
       "      <td>...</td>\n",
       "      <td>820.0</td>\n",
       "      <td>1922</td>\n",
       "      <td>0.0</td>\n",
       "      <td>98103</td>\n",
       "      <td>47.6813</td>\n",
       "      <td>-122.346</td>\n",
       "      <td>1550</td>\n",
       "      <td>3060</td>\n",
       "      <td>5.00</td>\n",
       "      <td>50.000000</td>\n",
       "    </tr>\n",
       "  </tbody>\n",
       "</table>\n",
       "<p>5 rows × 23 columns</p>\n",
       "</div>"
      ],
      "text/plain": [
       "               id        date     price  bedrooms  bathrooms  sqft_living  \\\n",
       "6243   9834201100  12/22/2014  332500.0         4       2.00         1440   \n",
       "8986   7795810110   5/12/2015  390000.0         3       1.75         1430   \n",
       "9419   1853081250  12/29/2014  800000.0         4       2.75         3120   \n",
       "10155  2558630350   3/21/2015  462000.0         4       2.50         2060   \n",
       "10436  3362401000    7/1/2014  695000.0         3       2.00         2500   \n",
       "\n",
       "       sqft_lot  floors  waterfront  view  ...  sqft_basement  yr_built  \\\n",
       "6243       4855     2.0         0.0   0.0  ...            0.0      1972   \n",
       "8986       9857     1.0         0.0   2.0  ...          290.0      1980   \n",
       "9419       5000     2.0         0.0   0.0  ...            0.0      2010   \n",
       "10155      6958     1.0         0.0   0.0  ...          840.0      1974   \n",
       "10436      4080     1.5         0.0   0.0  ...          820.0      1922   \n",
       "\n",
       "       yr_renovated zipcode      lat     long  sqft_living15  sqft_lot15  \\\n",
       "6243            0.0   98144  47.5717 -122.287           1300        4080   \n",
       "8986            0.0   98045  47.4964 -121.771           1310        9880   \n",
       "9419            0.0   98074  47.5940 -122.062           3200        5000   \n",
       "10155           NaN   98034  47.7251 -122.168           1760        7350   \n",
       "10436           0.0   98103  47.6813 -122.346           1550        3060   \n",
       "\n",
       "       rooms  square_root_living  \n",
       "6243    6.00           37.947332  \n",
       "8986    4.75           37.815341  \n",
       "9419    6.75           55.856960  \n",
       "10155   6.50           45.387223  \n",
       "10436   5.00           50.000000  \n",
       "\n",
       "[5 rows x 23 columns]"
      ]
     },
     "execution_count": 268,
     "metadata": {},
     "output_type": "execute_result"
    }
   ],
   "source": [
    "# I write a ton more code here with more and more models with my training set \n",
    "df.head()"
   ]
  },
  {
   "cell_type": "code",
   "execution_count": 308,
   "metadata": {},
   "outputs": [],
   "source": [
    "# Only want to model regular houses with year built as feature engineer \n",
    "\n",
    "\n",
    "# Combine Rooms as one variable ??\n",
    "df[\"rooms\"] = df[\"bedrooms\"] + df[\"bathrooms\"]\n",
    "\n",
    "# undo that square thing \n",
    "df[\"square_root_living\"] = np.sqrt(df[\"sqft_living\"])\n",
    "\n",
    "\n",
    "temp_build = df.groupby('yr_built').mean()\n",
    "temp_build_2 = temp_build['price']\n",
    "\n",
    "temp_build_3 = pd.DataFrame(temp_build_2)\n",
    "temp_build_3['year'] = temp_build_3.index\n",
    "\n",
    "# Time Since 1960 Variable \n",
    "\n",
    "df[\"time_since_1960\"] = abs(df[\"yr_built\"] - 1960)\n",
    "\n",
    "final_features = df[[\"time_since_1960\", \"square_root_living\"]]"
   ]
  },
  {
   "cell_type": "code",
   "execution_count": 309,
   "metadata": {},
   "outputs": [
    {
     "data": {
      "text/plain": [
       "<matplotlib.axes._subplots.AxesSubplot at 0x1379061d0>"
      ]
     },
     "execution_count": 309,
     "metadata": {},
     "output_type": "execute_result"
    },
    {
     "data": {
      "image/png": "[encoded data removed]",
      "text/plain": [
       "<Figure size 432x288 with 1 Axes>"
      ]
     },
     "metadata": {
      "needs_background": "light"
     },
     "output_type": "display_data"
    }
   ],
   "source": [
    "sns.regplot(df['square_root_living'], df['price'])"
   ]
  },
  {
   "cell_type": "code",
   "execution_count": 310,
   "metadata": {},
   "outputs": [
    {
     "data": {
      "text/plain": [
       "<matplotlib.axes._subplots.AxesSubplot at 0x1383ae550>"
      ]
     },
     "execution_count": 310,
     "metadata": {},
     "output_type": "execute_result"
    },
    {
     "data": {
      "image/png": "[encoded data removed]",
      "text/plain": [
       "<Figure size 432x288 with 1 Axes>"
      ]
     },
     "metadata": {
      "needs_background": "light"
     },
     "output_type": "display_data"
    }
   ],
   "source": [
    "sns.scatterplot(temp_build_3['year'], temp_build_3['price'])"
   ]
  },
  {
   "cell_type": "code",
   "execution_count": 311,
   "metadata": {},
   "outputs": [
    {
     "data": {
      "text/html": [
       "<table class=\"simpletable\">\n",
       "<caption>OLS Regression Results</caption>\n",
       "<tr>\n",
       "  <th>Dep. Variable:</th>          <td>price</td>      <th>  R-squared:         </th>  <td>   0.440</td>  \n",
       "</tr>\n",
       "<tr>\n",
       "  <th>Model:</th>                   <td>OLS</td>       <th>  Adj. R-squared:    </th>  <td>   0.440</td>  \n",
       "</tr>\n",
       "<tr>\n",
       "  <th>Method:</th>             <td>Least Squares</td>  <th>  F-statistic:       </th>  <td>   6775.</td>  \n",
       "</tr>\n",
       "<tr>\n",
       "  <th>Date:</th>             <td>Thu, 26 Mar 2020</td> <th>  Prob (F-statistic):</th>   <td>  0.00</td>   \n",
       "</tr>\n",
       "<tr>\n",
       "  <th>Time:</th>                 <td>14:57:38</td>     <th>  Log-Likelihood:    </th> <td>-2.4098e+05</td>\n",
       "</tr>\n",
       "<tr>\n",
       "  <th>No. Observations:</th>      <td> 17277</td>      <th>  AIC:               </th>  <td>4.820e+05</td> \n",
       "</tr>\n",
       "<tr>\n",
       "  <th>Df Residuals:</th>          <td> 17274</td>      <th>  BIC:               </th>  <td>4.820e+05</td> \n",
       "</tr>\n",
       "<tr>\n",
       "  <th>Df Model:</th>              <td>     2</td>      <th>                     </th>      <td> </td>     \n",
       "</tr>\n",
       "<tr>\n",
       "  <th>Covariance Type:</th>      <td>nonrobust</td>    <th>                     </th>      <td> </td>     \n",
       "</tr>\n",
       "</table>\n",
       "<table class=\"simpletable\">\n",
       "<tr>\n",
       "           <td></td>             <th>coef</th>     <th>std err</th>      <th>t</th>      <th>P>|t|</th>  <th>[0.025</th>    <th>0.975]</th>  \n",
       "</tr>\n",
       "<tr>\n",
       "  <th>const</th>              <td>-6.132e+05</td> <td> 1.02e+04</td> <td>  -60.304</td> <td> 0.000</td> <td>-6.33e+05</td> <td>-5.93e+05</td>\n",
       "</tr>\n",
       "<tr>\n",
       "  <th>time_since_1960</th>    <td>  958.2470</td> <td>  127.612</td> <td>    7.509</td> <td> 0.000</td> <td>  708.115</td> <td> 1208.379</td>\n",
       "</tr>\n",
       "<tr>\n",
       "  <th>square_root_living</th> <td>  2.53e+04</td> <td>  225.098</td> <td>  112.389</td> <td> 0.000</td> <td> 2.49e+04</td> <td> 2.57e+04</td>\n",
       "</tr>\n",
       "</table>\n",
       "<table class=\"simpletable\">\n",
       "<tr>\n",
       "  <th>Omnibus:</th>       <td>13851.926</td> <th>  Durbin-Watson:     </th>  <td>   1.992</td> \n",
       "</tr>\n",
       "<tr>\n",
       "  <th>Prob(Omnibus):</th>  <td> 0.000</td>   <th>  Jarque-Bera (JB):  </th> <td>805098.615</td>\n",
       "</tr>\n",
       "<tr>\n",
       "  <th>Skew:</th>           <td> 3.422</td>   <th>  Prob(JB):          </th>  <td>    0.00</td> \n",
       "</tr>\n",
       "<tr>\n",
       "  <th>Kurtosis:</th>       <td>35.735</td>   <th>  Cond. No.          </th>  <td>    259.</td> \n",
       "</tr>\n",
       "</table><br/><br/>Warnings:<br/>[1] Standard Errors assume that the covariance matrix of the errors is correctly specified."
      ],
      "text/plain": [
       "<class 'statsmodels.iolib.summary.Summary'>\n",
       "\"\"\"\n",
       "                            OLS Regression Results                            \n",
       "==============================================================================\n",
       "Dep. Variable:                  price   R-squared:                       0.440\n",
       "Model:                            OLS   Adj. R-squared:                  0.440\n",
       "Method:                 Least Squares   F-statistic:                     6775.\n",
       "Date:                Thu, 26 Mar 2020   Prob (F-statistic):               0.00\n",
       "Time:                        14:57:38   Log-Likelihood:            -2.4098e+05\n",
       "No. Observations:               17277   AIC:                         4.820e+05\n",
       "Df Residuals:                   17274   BIC:                         4.820e+05\n",
       "Df Model:                           2                                         \n",
       "Covariance Type:            nonrobust                                         \n",
       "======================================================================================\n",
       "                         coef    std err          t      P>|t|      [0.025      0.975]\n",
       "--------------------------------------------------------------------------------------\n",
       "const              -6.132e+05   1.02e+04    -60.304      0.000   -6.33e+05   -5.93e+05\n",
       "time_since_1960      958.2470    127.612      7.509      0.000     708.115    1208.379\n",
       "square_root_living   2.53e+04    225.098    112.389      0.000    2.49e+04    2.57e+04\n",
       "==============================================================================\n",
       "Omnibus:                    13851.926   Durbin-Watson:                   1.992\n",
       "Prob(Omnibus):                  0.000   Jarque-Bera (JB):           805098.615\n",
       "Skew:                           3.422   Prob(JB):                         0.00\n",
       "Kurtosis:                      35.735   Cond. No.                         259.\n",
       "==============================================================================\n",
       "\n",
       "Warnings:\n",
       "[1] Standard Errors assume that the covariance matrix of the errors is correctly specified.\n",
       "\"\"\""
      ]
     },
     "execution_count": 311,
     "metadata": {},
     "output_type": "execute_result"
    }
   ],
   "source": [
    "X_final = sm.add_constant(final_features)\n",
    "model_final = sm.OLS(target,X_final)\n",
    "results_final = model_final.fit()\n",
    "\n",
    "results_final.summary()"
   ]
  },
  {
   "cell_type": "markdown",
   "metadata": {},
   "source": [
    "# The BIG TEST! "
   ]
  },
  {
   "cell_type": "markdown",
   "metadata": {},
   "source": [
    "Ok, maybe after doing tons of models, I finally am happy with one! \n",
    "\n",
    "At this point in time, I am committing myself to whatever the output is, that's what goes in the final slide deck.\n",
    "Let's test it out! \n",
    "\n",
    "What I need to do here is LITERALLY COPY AND PASTE everything that you did with the model (including data cleaning choies!!!) you like the most, then swap out your `df` and `target` variables for `df_target` and `df_test` from above. \n",
    "\n",
    "You press RUN and then brace yourself to see how you did! (and probably have a bit of drop in R2...)\n"
   ]
  },
  {
   "cell_type": "code",
   "execution_count": 313,
   "metadata": {},
   "outputs": [],
   "source": [
    "# undo that square thing \n",
    "df_test[\"square_root_living\"] = np.sqrt(df_test[\"sqft_living\"])\n",
    "\n",
    "# Time Since 1960 Variable \n",
    "\n",
    "df_test[\"time_since_1960\"] = abs(df_test[\"yr_built\"] - 1960)\n",
    "\n",
    "final_features_test = df_test[[\"time_since_1960\", \"square_root_living\"]]\n",
    "\n"
   ]
  },
  {
   "cell_type": "markdown",
   "metadata": {},
   "source": [
    "Then at the end of the notebook, I'd explain what I did! "
   ]
  },
  {
   "cell_type": "code",
   "execution_count": 315,
   "metadata": {},
   "outputs": [
    {
     "data": {
      "text/html": [
       "<table class=\"simpletable\">\n",
       "<caption>OLS Regression Results</caption>\n",
       "<tr>\n",
       "  <th>Dep. Variable:</th>          <td>price</td>      <th>  R-squared:         </th> <td>   0.438</td> \n",
       "</tr>\n",
       "<tr>\n",
       "  <th>Model:</th>                   <td>OLS</td>       <th>  Adj. R-squared:    </th> <td>   0.438</td> \n",
       "</tr>\n",
       "<tr>\n",
       "  <th>Method:</th>             <td>Least Squares</td>  <th>  F-statistic:       </th> <td>   1684.</td> \n",
       "</tr>\n",
       "<tr>\n",
       "  <th>Date:</th>             <td>Thu, 26 Mar 2020</td> <th>  Prob (F-statistic):</th>  <td>  0.00</td>  \n",
       "</tr>\n",
       "<tr>\n",
       "  <th>Time:</th>                 <td>14:59:40</td>     <th>  Log-Likelihood:    </th> <td> -60164.</td> \n",
       "</tr>\n",
       "<tr>\n",
       "  <th>No. Observations:</th>      <td>  4320</td>      <th>  AIC:               </th> <td>1.203e+05</td>\n",
       "</tr>\n",
       "<tr>\n",
       "  <th>Df Residuals:</th>          <td>  4317</td>      <th>  BIC:               </th> <td>1.204e+05</td>\n",
       "</tr>\n",
       "<tr>\n",
       "  <th>Df Model:</th>              <td>     2</td>      <th>                     </th>     <td> </td>    \n",
       "</tr>\n",
       "<tr>\n",
       "  <th>Covariance Type:</th>      <td>nonrobust</td>    <th>                     </th>     <td> </td>    \n",
       "</tr>\n",
       "</table>\n",
       "<table class=\"simpletable\">\n",
       "<tr>\n",
       "           <td></td>             <th>coef</th>     <th>std err</th>      <th>t</th>      <th>P>|t|</th>  <th>[0.025</th>    <th>0.975]</th>  \n",
       "</tr>\n",
       "<tr>\n",
       "  <th>const</th>              <td>-5.803e+05</td> <td> 1.97e+04</td> <td>  -29.385</td> <td> 0.000</td> <td>-6.19e+05</td> <td>-5.42e+05</td>\n",
       "</tr>\n",
       "<tr>\n",
       "  <th>time_since_1960</th>    <td>  679.1299</td> <td>  252.192</td> <td>    2.693</td> <td> 0.007</td> <td>  184.705</td> <td> 1173.555</td>\n",
       "</tr>\n",
       "<tr>\n",
       "  <th>square_root_living</th> <td> 2.469e+04</td> <td>  439.342</td> <td>   56.197</td> <td> 0.000</td> <td> 2.38e+04</td> <td> 2.56e+04</td>\n",
       "</tr>\n",
       "</table>\n",
       "<table class=\"simpletable\">\n",
       "<tr>\n",
       "  <th>Omnibus:</th>       <td>3969.467</td> <th>  Durbin-Watson:     </th>  <td>   2.005</td> \n",
       "</tr>\n",
       "<tr>\n",
       "  <th>Prob(Omnibus):</th>  <td> 0.000</td>  <th>  Jarque-Bera (JB):  </th> <td>416871.252</td>\n",
       "</tr>\n",
       "<tr>\n",
       "  <th>Skew:</th>           <td> 3.999</td>  <th>  Prob(JB):          </th>  <td>    0.00</td> \n",
       "</tr>\n",
       "<tr>\n",
       "  <th>Kurtosis:</th>       <td>50.455</td>  <th>  Cond. No.          </th>  <td>    257.</td> \n",
       "</tr>\n",
       "</table><br/><br/>Warnings:<br/>[1] Standard Errors assume that the covariance matrix of the errors is correctly specified."
      ],
      "text/plain": [
       "<class 'statsmodels.iolib.summary.Summary'>\n",
       "\"\"\"\n",
       "                            OLS Regression Results                            \n",
       "==============================================================================\n",
       "Dep. Variable:                  price   R-squared:                       0.438\n",
       "Model:                            OLS   Adj. R-squared:                  0.438\n",
       "Method:                 Least Squares   F-statistic:                     1684.\n",
       "Date:                Thu, 26 Mar 2020   Prob (F-statistic):               0.00\n",
       "Time:                        14:59:40   Log-Likelihood:                -60164.\n",
       "No. Observations:                4320   AIC:                         1.203e+05\n",
       "Df Residuals:                    4317   BIC:                         1.204e+05\n",
       "Df Model:                           2                                         \n",
       "Covariance Type:            nonrobust                                         \n",
       "======================================================================================\n",
       "                         coef    std err          t      P>|t|      [0.025      0.975]\n",
       "--------------------------------------------------------------------------------------\n",
       "const              -5.803e+05   1.97e+04    -29.385      0.000   -6.19e+05   -5.42e+05\n",
       "time_since_1960      679.1299    252.192      2.693      0.007     184.705    1173.555\n",
       "square_root_living  2.469e+04    439.342     56.197      0.000    2.38e+04    2.56e+04\n",
       "==============================================================================\n",
       "Omnibus:                     3969.467   Durbin-Watson:                   2.005\n",
       "Prob(Omnibus):                  0.000   Jarque-Bera (JB):           416871.252\n",
       "Skew:                           3.999   Prob(JB):                         0.00\n",
       "Kurtosis:                      50.455   Cond. No.                         257.\n",
       "==============================================================================\n",
       "\n",
       "Warnings:\n",
       "[1] Standard Errors assume that the covariance matrix of the errors is correctly specified.\n",
       "\"\"\""
      ]
     },
     "execution_count": 315,
     "metadata": {},
     "output_type": "execute_result"
    }
   ],
   "source": [
    "X_final_test = sm.add_constant(final_features_test)\n",
    "model_final_test = sm.OLS(target_test,X_final_test)\n",
    "results_final_test = model_final_test.fit()\n",
    "\n",
    "results_final_test.summary()"
   ]
  },
  {
   "cell_type": "code",
   "execution_count": null,
   "metadata": {},
   "outputs": [],
   "source": []
  }
 ],
 "metadata": {
  "kernelspec": {
   "display_name": "Python 3",
   "language": "python",
   "name": "python3"
  },
  "language_info": {
   "codemirror_mode": {
    "name": "ipython",
    "version": 3
   },
   "file_extension": ".py",
   "mimetype": "text/x-python",
   "name": "python",
   "nbconvert_exporter": "python",
   "pygments_lexer": "ipython3",
   "version": "3.7.3"
  }
 },
 "nbformat": 4,
 "nbformat_minor": 2
}
